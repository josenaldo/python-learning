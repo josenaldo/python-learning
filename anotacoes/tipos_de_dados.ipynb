{
 "nbformat": 4,
 "nbformat_minor": 2,
 "metadata": {
  "language_info": {
   "name": "python",
   "codemirror_mode": {
    "name": "ipython",
    "version": 3
   },
   "version": "3.8.0"
  },
  "orig_nbformat": 2,
  "file_extension": ".py",
  "mimetype": "text/x-python",
  "name": "python",
  "npconvert_exporter": "python",
  "pygments_lexer": "ipython3",
  "version": 3
 },
 "cells": [
  {
   "cell_type": "markdown",
   "execution_count": null,
   "metadata": {},
   "outputs": [],
   "source": [
    "# Índice\n",
    "\n",
    "- [Tipos de dados](#TiposDeDados)\n",
    "- [Conversão de dados](#ConversaoDeTipos)"
   ]
  },
  {
   "cell_type": "markdown",
   "execution_count": null,
   "metadata": {},
   "outputs": [],
   "source": [
    "## <a id=\"TiposDeDados\"></a>Tipos de dados\n",
    "\n",
    "Os tipos de dados básicos do Python são:\n",
    "\n",
    "- str\n",
    "- int\n",
    "- float"
   ]
  },
  {
   "cell_type": "markdown",
   "execution_count": 1,
   "metadata": {},
   "outputs": [],
   "source": [
    "## Conversão de tipos <a id=\"ConversaoDeTipos\"></a>\n",
    "\n",
    "A conversão de tipos, em python, pode ser feita através das fun tipo(variável). Uma conversão para um tipo 'menor' (de float para int,por exemplo) pode fazer com que informação seja trucada."
   ]
  },
  {
   "cell_type": "code",
   "execution_count": 3,
   "metadata": {},
   "outputs": [
    {
     "name": "stdout",
     "output_type": "stream",
     "text": "a =  2.45\nb =  2\n"
    }
   ],
   "source": [
    "a = 2.45\n",
    "b = int(a)\n",
    "\n",
    "print(\"a = \", a)\n",
    "print(\"b = \", b)"
   ]
  },
  {
   "cell_type": "markdown",
   "execution_count": null,
   "metadata": {},
   "outputs": [],
   "source": [
    "## Operações <a id=\"Operacoes\"></a>\n",
    "\n",
    "Em Python, para números,temos as seguintes operações\n",
    "\n",
    "- adição, representada pelo operador +\n",
    "- subtração, representada pelo operador -\n",
    "- multiplicação, representada pelo operador *\n",
    "- divisão, representada pelo operador /\n",
    "- potenciação, representada pelo operador **\n",
    "- divisão inteira, representada pelo operador //\n",
    "- resto, representada pelo operador %\n",
    "\n",
    "Para strings, temos também a concatenação, representada pelo operador +"
   ]
  },
  {
   "cell_type": "code",
   "execution_count": 5,
   "metadata": {},
   "outputs": [],
   "source": [
    "x = 25\n",
    "y = 5\n",
    "z = 3\n",
    "w = -4"
   ]
  },
  {
   "cell_type": "code",
   "execution_count": 7,
   "metadata": {},
   "outputs": [
    {
     "name": "stdout",
     "output_type": "stream",
     "text": "========== SOMA ==========\n25  +  5  =  30\n25  +  3  =  28\n"
    }
   ],
   "source": [
    "###############################################################################\n",
    "# A soma é feita com o operador +\n",
    "print(\"========== SOMA ==========\")\n",
    "soma1 = x + y\n",
    "soma2 = x + z\n",
    "print ( x, \" + \", y, \" = \", soma1 )\n",
    "print ( x, \" + \", z, \" = \", soma2 )"
   ]
  },
  {
   "cell_type": "code",
   "execution_count": 6,
   "metadata": {},
   "outputs": [
    {
     "name": "stdout",
     "output_type": "stream",
     "text": "\n========== SUBTRAÇÃO ==========\n25  -  5  =  20\n3  -  25  =  -22\n"
    }
   ],
   "source": [
    "###############################################################################\n",
    "# A subtração é feita com o operador -\n",
    "print(\"\\n========== SUBTRAÇÃO ==========\")\n",
    "subtracao1 = x - y\n",
    "subtracao2 = z - x\n",
    "print ( x, \" - \", y, \" = \", subtracao1 )\n",
    "print ( z, \" - \", x, \" = \", subtracao2 )"
   ]
  },
  {
   "cell_type": "code",
   "execution_count": 8,
   "metadata": {},
   "outputs": [
    {
     "name": "stdout",
     "output_type": "stream",
     "text": "\n========== MULTIPLICAÇÃO ==========\n25  *  5  =  125\n25  *  -4  =  -100\n"
    }
   ],
   "source": [
    "###############################################################################\n",
    "# A multiplicação é feita com o operador *\n",
    "print(\"\\n========== MULTIPLICAÇÃO ==========\")\n",
    "multiplicacao1 = x * y\n",
    "multiplicacao2 = x * w\n",
    "print ( x, \" * \", y, \" = \", multiplicacao1 )\n",
    "print ( x, \" * \", w, \" = \", multiplicacao2 )"
   ]
  },
  {
   "cell_type": "code",
   "execution_count": 9,
   "metadata": {},
   "outputs": [
    {
     "name": "stdout",
     "output_type": "stream",
     "text": "\n========== DIVISÃO ==========\n25  /  5  =  5.0\n25  /  3  =  8.333333333333334\n"
    }
   ],
   "source": [
    "###############################################################################\n",
    "# A divisão é feita com o operador /\n",
    "# note que a divisão retorna um número de ponto flutuante\n",
    "print(\"\\n========== DIVISÃO ==========\")\n",
    "divisao1 = x / y\n",
    "divisao2 = x / z\n",
    "print ( x, \" / \", y, \" = \", divisao1 )\n",
    "print ( x, \" / \", z, \" = \", divisao2 )\n"
   ]
  },
  {
   "cell_type": "code",
   "execution_count": 11,
   "metadata": {},
   "outputs": [
    {
     "name": "stdout",
     "output_type": "stream",
     "text": "\n========== DIVISÃO INTEIRA ==========\n25  //  5  =  5\n25  //  3  =  8\n"
    }
   ],
   "source": [
    "###############################################################################\n",
    "# A divisão inteira é feita com o operador //\n",
    "print(\"\\n========== DIVISÃO INTEIRA ==========\")\n",
    "divisao_inteira1 = x // y\n",
    "divisao_inteira2 = x // z\n",
    "print ( x, \" // \", y, \" = \", divisao_inteira1 )\n",
    "print ( x, \" // \", z, \" = \", divisao_inteira2 )"
   ]
  },
  {
   "cell_type": "code",
   "execution_count": null,
   "metadata": {},
   "outputs": [],
   "source": [
    "###############################################################################\n",
    "# O resto é feito com o operador %\n",
    "print(\"\\n========== RESTO ==========\")\n",
    "resto1 = x % y\n",
    "resto2 = x % z\n",
    "print ( x, \" % \", y, \" = \", resto1 )\n",
    "print ( x, \" % \", z, \" = \", resto2 )\n"
   ]
  },
  {
   "cell_type": "code",
   "execution_count": null,
   "metadata": {},
   "outputs": [],
   "source": [
    "###############################################################################\n",
    "# A potência é feita com o operador **\n",
    "print(\"\\n========== POTÊNCIA ==========\")\n",
    "potencia1 = x ** y\n",
    "potencia2 = y ** w\n",
    "print ( x, \" ** \", y, \" = \", potencia1 )\n",
    "print ( y, \" ** \", w, \" = \", potencia2 )"
   ]
  },
  {
   "cell_type": "markdown",
   "execution_count": null,
   "metadata": {},
   "outputs": [],
   "source": []
  }
 ]
}